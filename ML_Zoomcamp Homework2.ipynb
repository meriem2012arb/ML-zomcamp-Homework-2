{
 "cells": [
  {
   "cell_type": "markdown",
   "id": "10f3ebc3",
   "metadata": {},
   "source": [
    "## ML_Zoomcamp Homework2 : Car Price Prediction "
   ]
  },
  {
   "cell_type": "code",
   "execution_count": 1,
   "id": "afbfb6a8",
   "metadata": {},
   "outputs": [],
   "source": [
    "import pandas as pd\n",
    "import numpy as np "
   ]
  },
  {
   "cell_type": "markdown",
   "id": "edd45e38",
   "metadata": {},
   "source": [
    "## Data Preparation "
   ]
  },
  {
   "cell_type": "code",
   "execution_count": 2,
   "id": "c06b25c3",
   "metadata": {
    "scrolled": true
   },
   "outputs": [
    {
     "name": "stdout",
     "output_type": "stream",
     "text": [
      "\n",
      "Saved under housing (4).csv\n"
     ]
    }
   ],
   "source": [
    "# import & load the dataset : we will use the California Housing Prices dataset from Kaggle.\n",
    "\n",
    "!python -m wget https://raw.githubusercontent.com/alexeygrigorev/datasets/master/housing.csv\n",
    "housing_data = pd.read_csv('housing.csv')  "
   ]
  },
  {
   "cell_type": "code",
   "execution_count": 3,
   "id": "3e439b3b",
   "metadata": {
    "scrolled": false
   },
   "outputs": [
    {
     "data": {
      "text/html": [
       "<div>\n",
       "<style scoped>\n",
       "    .dataframe tbody tr th:only-of-type {\n",
       "        vertical-align: middle;\n",
       "    }\n",
       "\n",
       "    .dataframe tbody tr th {\n",
       "        vertical-align: top;\n",
       "    }\n",
       "\n",
       "    .dataframe thead th {\n",
       "        text-align: right;\n",
       "    }\n",
       "</style>\n",
       "<table border=\"1\" class=\"dataframe\">\n",
       "  <thead>\n",
       "    <tr style=\"text-align: right;\">\n",
       "      <th></th>\n",
       "      <th>longitude</th>\n",
       "      <th>latitude</th>\n",
       "      <th>housing_median_age</th>\n",
       "      <th>total_rooms</th>\n",
       "      <th>total_bedrooms</th>\n",
       "      <th>population</th>\n",
       "      <th>households</th>\n",
       "      <th>median_income</th>\n",
       "      <th>median_house_value</th>\n",
       "      <th>ocean_proximity</th>\n",
       "    </tr>\n",
       "  </thead>\n",
       "  <tbody>\n",
       "    <tr>\n",
       "      <th>0</th>\n",
       "      <td>-122.23</td>\n",
       "      <td>37.88</td>\n",
       "      <td>41.0</td>\n",
       "      <td>880.0</td>\n",
       "      <td>129.0</td>\n",
       "      <td>322.0</td>\n",
       "      <td>126.0</td>\n",
       "      <td>8.3252</td>\n",
       "      <td>452600.0</td>\n",
       "      <td>NEAR BAY</td>\n",
       "    </tr>\n",
       "    <tr>\n",
       "      <th>1</th>\n",
       "      <td>-122.22</td>\n",
       "      <td>37.86</td>\n",
       "      <td>21.0</td>\n",
       "      <td>7099.0</td>\n",
       "      <td>1106.0</td>\n",
       "      <td>2401.0</td>\n",
       "      <td>1138.0</td>\n",
       "      <td>8.3014</td>\n",
       "      <td>358500.0</td>\n",
       "      <td>NEAR BAY</td>\n",
       "    </tr>\n",
       "    <tr>\n",
       "      <th>2</th>\n",
       "      <td>-122.24</td>\n",
       "      <td>37.85</td>\n",
       "      <td>52.0</td>\n",
       "      <td>1467.0</td>\n",
       "      <td>190.0</td>\n",
       "      <td>496.0</td>\n",
       "      <td>177.0</td>\n",
       "      <td>7.2574</td>\n",
       "      <td>352100.0</td>\n",
       "      <td>NEAR BAY</td>\n",
       "    </tr>\n",
       "    <tr>\n",
       "      <th>3</th>\n",
       "      <td>-122.25</td>\n",
       "      <td>37.85</td>\n",
       "      <td>52.0</td>\n",
       "      <td>1274.0</td>\n",
       "      <td>235.0</td>\n",
       "      <td>558.0</td>\n",
       "      <td>219.0</td>\n",
       "      <td>5.6431</td>\n",
       "      <td>341300.0</td>\n",
       "      <td>NEAR BAY</td>\n",
       "    </tr>\n",
       "    <tr>\n",
       "      <th>4</th>\n",
       "      <td>-122.25</td>\n",
       "      <td>37.85</td>\n",
       "      <td>52.0</td>\n",
       "      <td>1627.0</td>\n",
       "      <td>280.0</td>\n",
       "      <td>565.0</td>\n",
       "      <td>259.0</td>\n",
       "      <td>3.8462</td>\n",
       "      <td>342200.0</td>\n",
       "      <td>NEAR BAY</td>\n",
       "    </tr>\n",
       "  </tbody>\n",
       "</table>\n",
       "</div>"
      ],
      "text/plain": [
       "   longitude  latitude  housing_median_age  total_rooms  total_bedrooms  \\\n",
       "0    -122.23     37.88                41.0        880.0           129.0   \n",
       "1    -122.22     37.86                21.0       7099.0          1106.0   \n",
       "2    -122.24     37.85                52.0       1467.0           190.0   \n",
       "3    -122.25     37.85                52.0       1274.0           235.0   \n",
       "4    -122.25     37.85                52.0       1627.0           280.0   \n",
       "\n",
       "   population  households  median_income  median_house_value ocean_proximity  \n",
       "0       322.0       126.0         8.3252            452600.0        NEAR BAY  \n",
       "1      2401.0      1138.0         8.3014            358500.0        NEAR BAY  \n",
       "2       496.0       177.0         7.2574            352100.0        NEAR BAY  \n",
       "3       558.0       219.0         5.6431            341300.0        NEAR BAY  \n",
       "4       565.0       259.0         3.8462            342200.0        NEAR BAY  "
      ]
     },
     "execution_count": 3,
     "metadata": {},
     "output_type": "execute_result"
    }
   ],
   "source": [
    "housing_data.head() \n"
   ]
  },
  {
   "cell_type": "code",
   "execution_count": 4,
   "id": "ae252e77",
   "metadata": {},
   "outputs": [
    {
     "name": "stdout",
     "output_type": "stream",
     "text": [
      "<class 'pandas.core.frame.DataFrame'>\n",
      "RangeIndex: 20640 entries, 0 to 20639\n",
      "Data columns (total 10 columns):\n",
      " #   Column              Non-Null Count  Dtype  \n",
      "---  ------              --------------  -----  \n",
      " 0   longitude           20640 non-null  float64\n",
      " 1   latitude            20640 non-null  float64\n",
      " 2   housing_median_age  20640 non-null  float64\n",
      " 3   total_rooms         20640 non-null  float64\n",
      " 4   total_bedrooms      20433 non-null  float64\n",
      " 5   population          20640 non-null  float64\n",
      " 6   households          20640 non-null  float64\n",
      " 7   median_income       20640 non-null  float64\n",
      " 8   median_house_value  20640 non-null  float64\n",
      " 9   ocean_proximity     20640 non-null  object \n",
      "dtypes: float64(9), object(1)\n",
      "memory usage: 1.6+ MB\n"
     ]
    }
   ],
   "source": [
    "housing_data.info()"
   ]
  },
  {
   "cell_type": "markdown",
   "id": "2e703413",
   "metadata": {},
   "source": [
    "### Exploratory Data Analysis"
   ]
  },
  {
   "cell_type": "code",
   "execution_count": 5,
   "id": "8a81ad2e",
   "metadata": {},
   "outputs": [
    {
     "data": {
      "text/plain": [
       "longitude             float64\n",
       "latitude              float64\n",
       "housing_median_age    float64\n",
       "total_rooms           float64\n",
       "total_bedrooms        float64\n",
       "population            float64\n",
       "households            float64\n",
       "median_income         float64\n",
       "median_house_value    float64\n",
       "ocean_proximity        object\n",
       "dtype: object"
      ]
     },
     "execution_count": 5,
     "metadata": {},
     "output_type": "execute_result"
    }
   ],
   "source": [
    "housing_data.dtypes"
   ]
  },
  {
   "cell_type": "markdown",
   "id": "0bce40bc",
   "metadata": {},
   "source": [
    "#### Distribution of prices "
   ]
  },
  {
   "cell_type": "code",
   "execution_count": 6,
   "id": "2c143821",
   "metadata": {},
   "outputs": [],
   "source": [
    "import matplotlib.pyplot as plt \n",
    "import seaborn as sns\n",
    "\n",
    "%matplotlib inline \n"
   ]
  },
  {
   "cell_type": "code",
   "execution_count": 7,
   "id": "73a17c9e",
   "metadata": {},
   "outputs": [
    {
     "data": {
      "text/plain": [
       "<AxesSubplot:xlabel='median_house_value', ylabel='Count'>"
      ]
     },
     "execution_count": 7,
     "metadata": {},
     "output_type": "execute_result"
    },
    {
     "data": {
      "image/png": "[encoded data removed]",
      "text/plain": [
       "<Figure size 640x480 with 1 Axes>"
      ]
     },
     "metadata": {},
     "output_type": "display_data"
    }
   ],
   "source": [
    "sns.histplot(housing_data.median_house_value, bins=50, color='blue') # it doesn't have  a long tail"
   ]
  },
  {
   "cell_type": "code",
   "execution_count": 8,
   "id": "48290c00",
   "metadata": {},
   "outputs": [
    {
     "data": {
      "text/html": [
       "<div>\n",
       "<style scoped>\n",
       "    .dataframe tbody tr th:only-of-type {\n",
       "        vertical-align: middle;\n",
       "    }\n",
       "\n",
       "    .dataframe tbody tr th {\n",
       "        vertical-align: top;\n",
       "    }\n",
       "\n",
       "    .dataframe thead th {\n",
       "        text-align: right;\n",
       "    }\n",
       "</style>\n",
       "<table border=\"1\" class=\"dataframe\">\n",
       "  <thead>\n",
       "    <tr style=\"text-align: right;\">\n",
       "      <th></th>\n",
       "      <th>longitude</th>\n",
       "      <th>latitude</th>\n",
       "      <th>housing_median_age</th>\n",
       "      <th>total_rooms</th>\n",
       "      <th>total_bedrooms</th>\n",
       "      <th>population</th>\n",
       "      <th>households</th>\n",
       "      <th>median_income</th>\n",
       "      <th>median_house_value</th>\n",
       "    </tr>\n",
       "  </thead>\n",
       "  <tbody>\n",
       "    <tr>\n",
       "      <th>0</th>\n",
       "      <td>-122.23</td>\n",
       "      <td>37.88</td>\n",
       "      <td>41.0</td>\n",
       "      <td>880.0</td>\n",
       "      <td>129.0</td>\n",
       "      <td>322.0</td>\n",
       "      <td>126.0</td>\n",
       "      <td>8.3252</td>\n",
       "      <td>452600.0</td>\n",
       "    </tr>\n",
       "    <tr>\n",
       "      <th>1</th>\n",
       "      <td>-122.22</td>\n",
       "      <td>37.86</td>\n",
       "      <td>21.0</td>\n",
       "      <td>7099.0</td>\n",
       "      <td>1106.0</td>\n",
       "      <td>2401.0</td>\n",
       "      <td>1138.0</td>\n",
       "      <td>8.3014</td>\n",
       "      <td>358500.0</td>\n",
       "    </tr>\n",
       "    <tr>\n",
       "      <th>2</th>\n",
       "      <td>-122.24</td>\n",
       "      <td>37.85</td>\n",
       "      <td>52.0</td>\n",
       "      <td>1467.0</td>\n",
       "      <td>190.0</td>\n",
       "      <td>496.0</td>\n",
       "      <td>177.0</td>\n",
       "      <td>7.2574</td>\n",
       "      <td>352100.0</td>\n",
       "    </tr>\n",
       "    <tr>\n",
       "      <th>3</th>\n",
       "      <td>-122.25</td>\n",
       "      <td>37.85</td>\n",
       "      <td>52.0</td>\n",
       "      <td>1274.0</td>\n",
       "      <td>235.0</td>\n",
       "      <td>558.0</td>\n",
       "      <td>219.0</td>\n",
       "      <td>5.6431</td>\n",
       "      <td>341300.0</td>\n",
       "    </tr>\n",
       "    <tr>\n",
       "      <th>4</th>\n",
       "      <td>-122.25</td>\n",
       "      <td>37.85</td>\n",
       "      <td>52.0</td>\n",
       "      <td>1627.0</td>\n",
       "      <td>280.0</td>\n",
       "      <td>565.0</td>\n",
       "      <td>259.0</td>\n",
       "      <td>3.8462</td>\n",
       "      <td>342200.0</td>\n",
       "    </tr>\n",
       "  </tbody>\n",
       "</table>\n",
       "</div>"
      ],
      "text/plain": [
       "   longitude  latitude  housing_median_age  total_rooms  total_bedrooms  \\\n",
       "0    -122.23     37.88                41.0        880.0           129.0   \n",
       "1    -122.22     37.86                21.0       7099.0          1106.0   \n",
       "2    -122.24     37.85                52.0       1467.0           190.0   \n",
       "3    -122.25     37.85                52.0       1274.0           235.0   \n",
       "4    -122.25     37.85                52.0       1627.0           280.0   \n",
       "\n",
       "   population  households  median_income  median_house_value  \n",
       "0       322.0       126.0         8.3252            452600.0  \n",
       "1      2401.0      1138.0         8.3014            358500.0  \n",
       "2       496.0       177.0         7.2574            352100.0  \n",
       "3       558.0       219.0         5.6431            341300.0  \n",
       "4       565.0       259.0         3.8462            342200.0  "
      ]
     },
     "execution_count": 8,
     "metadata": {},
     "output_type": "execute_result"
    }
   ],
   "source": [
    "housing_data = housing_data.loc[:, housing_data.columns != 'ocean_proximity'] # Exclude the last column\n",
    "housing_data.head() "
   ]
  },
  {
   "cell_type": "markdown",
   "id": "92de140b",
   "metadata": {},
   "source": [
    "### 1.Find a feature with missing values. How many missing values does it have?"
   ]
  },
  {
   "cell_type": "code",
   "execution_count": 9,
   "id": "4b58c2a3",
   "metadata": {},
   "outputs": [
    {
     "data": {
      "text/plain": [
       "longitude               0\n",
       "latitude                0\n",
       "housing_median_age      0\n",
       "total_rooms             0\n",
       "total_bedrooms        207\n",
       "population              0\n",
       "households              0\n",
       "median_income           0\n",
       "median_house_value      0\n",
       "dtype: int64"
      ]
     },
     "execution_count": 9,
     "metadata": {},
     "output_type": "execute_result"
    }
   ],
   "source": [
    "housing_data.isnull().sum() # the 'total_bedrooms' column has 207 missing value "
   ]
  },
  {
   "cell_type": "markdown",
   "id": "0d2f7b31",
   "metadata": {},
   "source": [
    "### 2.                                                                                                                                                                                   What's the median (50% percentile) for variable 'population'?"
   ]
  },
  {
   "cell_type": "code",
   "execution_count": 10,
   "id": "6e360fac",
   "metadata": {},
   "outputs": [
    {
     "data": {
      "text/plain": [
       "1166.0"
      ]
     },
     "execution_count": 10,
     "metadata": {},
     "output_type": "execute_result"
    }
   ],
   "source": [
    "pop_median = housing_data.population.median()\n",
    "pop_median"
   ]
  },
  {
   "cell_type": "markdown",
   "id": "6d47f3dd",
   "metadata": {},
   "source": [
    "### Split the data "
   ]
  },
  {
   "cell_type": "code",
   "execution_count": 11,
   "id": "5357155b",
   "metadata": {},
   "outputs": [],
   "source": [
    "# Split the data :\n",
    "#training sets : 60% distrubution  \n",
    "#validation sets : 20% distribution\n",
    "#test sets : 20% distribution\n",
    "\n",
    "np.random.seed(42)\n",
    "\n",
    "n = len(housing_data)\n",
    "n_val = int(n* 0.2)\n",
    "n_test =  int(n * 0.2 )\n",
    "n_train = n-( n_val+ n_test  )"
   ]
  },
  {
   "cell_type": "markdown",
   "id": "374a8fd2",
   "metadata": {},
   "source": [
    "### Shuffle the data "
   ]
  },
  {
   "cell_type": "code",
   "execution_count": 12,
   "id": "3c97fc09",
   "metadata": {},
   "outputs": [],
   "source": [
    "np.random.seed(42)\n",
    "idx = np.arange(n)\n",
    "np.random.shuffle(idx)"
   ]
  },
  {
   "cell_type": "code",
   "execution_count": 13,
   "id": "0ad54330",
   "metadata": {},
   "outputs": [
    {
     "data": {
      "text/html": [
       "<div>\n",
       "<style scoped>\n",
       "    .dataframe tbody tr th:only-of-type {\n",
       "        vertical-align: middle;\n",
       "    }\n",
       "\n",
       "    .dataframe tbody tr th {\n",
       "        vertical-align: top;\n",
       "    }\n",
       "\n",
       "    .dataframe thead th {\n",
       "        text-align: right;\n",
       "    }\n",
       "</style>\n",
       "<table border=\"1\" class=\"dataframe\">\n",
       "  <thead>\n",
       "    <tr style=\"text-align: right;\">\n",
       "      <th></th>\n",
       "      <th>longitude</th>\n",
       "      <th>latitude</th>\n",
       "      <th>housing_median_age</th>\n",
       "      <th>total_rooms</th>\n",
       "      <th>total_bedrooms</th>\n",
       "      <th>population</th>\n",
       "      <th>households</th>\n",
       "      <th>median_income</th>\n",
       "      <th>median_house_value</th>\n",
       "    </tr>\n",
       "  </thead>\n",
       "  <tbody>\n",
       "    <tr>\n",
       "      <th>20046</th>\n",
       "      <td>-119.01</td>\n",
       "      <td>36.06</td>\n",
       "      <td>25.0</td>\n",
       "      <td>1505.0</td>\n",
       "      <td>NaN</td>\n",
       "      <td>1392.0</td>\n",
       "      <td>359.0</td>\n",
       "      <td>1.6812</td>\n",
       "      <td>47700.0</td>\n",
       "    </tr>\n",
       "    <tr>\n",
       "      <th>3024</th>\n",
       "      <td>-119.46</td>\n",
       "      <td>35.14</td>\n",
       "      <td>30.0</td>\n",
       "      <td>2943.0</td>\n",
       "      <td>NaN</td>\n",
       "      <td>1565.0</td>\n",
       "      <td>584.0</td>\n",
       "      <td>2.5313</td>\n",
       "      <td>45800.0</td>\n",
       "    </tr>\n",
       "    <tr>\n",
       "      <th>15663</th>\n",
       "      <td>-122.44</td>\n",
       "      <td>37.80</td>\n",
       "      <td>52.0</td>\n",
       "      <td>3830.0</td>\n",
       "      <td>NaN</td>\n",
       "      <td>1310.0</td>\n",
       "      <td>963.0</td>\n",
       "      <td>3.4801</td>\n",
       "      <td>500001.0</td>\n",
       "    </tr>\n",
       "    <tr>\n",
       "      <th>20484</th>\n",
       "      <td>-118.72</td>\n",
       "      <td>34.28</td>\n",
       "      <td>17.0</td>\n",
       "      <td>3051.0</td>\n",
       "      <td>NaN</td>\n",
       "      <td>1705.0</td>\n",
       "      <td>495.0</td>\n",
       "      <td>5.7376</td>\n",
       "      <td>218600.0</td>\n",
       "    </tr>\n",
       "    <tr>\n",
       "      <th>9814</th>\n",
       "      <td>-121.93</td>\n",
       "      <td>36.62</td>\n",
       "      <td>34.0</td>\n",
       "      <td>2351.0</td>\n",
       "      <td>NaN</td>\n",
       "      <td>1063.0</td>\n",
       "      <td>428.0</td>\n",
       "      <td>3.7250</td>\n",
       "      <td>278000.0</td>\n",
       "    </tr>\n",
       "    <tr>\n",
       "      <th>...</th>\n",
       "      <td>...</td>\n",
       "      <td>...</td>\n",
       "      <td>...</td>\n",
       "      <td>...</td>\n",
       "      <td>...</td>\n",
       "      <td>...</td>\n",
       "      <td>...</td>\n",
       "      <td>...</td>\n",
       "      <td>...</td>\n",
       "    </tr>\n",
       "    <tr>\n",
       "      <th>10292</th>\n",
       "      <td>-117.81</td>\n",
       "      <td>33.88</td>\n",
       "      <td>19.0</td>\n",
       "      <td>2265.0</td>\n",
       "      <td>283.0</td>\n",
       "      <td>904.0</td>\n",
       "      <td>279.0</td>\n",
       "      <td>9.2327</td>\n",
       "      <td>461300.0</td>\n",
       "    </tr>\n",
       "    <tr>\n",
       "      <th>16722</th>\n",
       "      <td>-120.68</td>\n",
       "      <td>35.48</td>\n",
       "      <td>15.0</td>\n",
       "      <td>2608.0</td>\n",
       "      <td>525.0</td>\n",
       "      <td>1351.0</td>\n",
       "      <td>502.0</td>\n",
       "      <td>2.7798</td>\n",
       "      <td>205800.0</td>\n",
       "    </tr>\n",
       "    <tr>\n",
       "      <th>11730</th>\n",
       "      <td>-120.91</td>\n",
       "      <td>38.98</td>\n",
       "      <td>13.0</td>\n",
       "      <td>7689.0</td>\n",
       "      <td>1415.0</td>\n",
       "      <td>3264.0</td>\n",
       "      <td>1198.0</td>\n",
       "      <td>3.6530</td>\n",
       "      <td>146800.0</td>\n",
       "    </tr>\n",
       "    <tr>\n",
       "      <th>5993</th>\n",
       "      <td>-117.72</td>\n",
       "      <td>34.09</td>\n",
       "      <td>36.0</td>\n",
       "      <td>1473.0</td>\n",
       "      <td>328.0</td>\n",
       "      <td>785.0</td>\n",
       "      <td>299.0</td>\n",
       "      <td>3.2566</td>\n",
       "      <td>151800.0</td>\n",
       "    </tr>\n",
       "    <tr>\n",
       "      <th>15993</th>\n",
       "      <td>-122.47</td>\n",
       "      <td>37.76</td>\n",
       "      <td>34.0</td>\n",
       "      <td>2807.0</td>\n",
       "      <td>487.0</td>\n",
       "      <td>1152.0</td>\n",
       "      <td>445.0</td>\n",
       "      <td>5.1893</td>\n",
       "      <td>420300.0</td>\n",
       "    </tr>\n",
       "  </tbody>\n",
       "</table>\n",
       "<p>12384 rows × 9 columns</p>\n",
       "</div>"
      ],
      "text/plain": [
       "       longitude  latitude  housing_median_age  total_rooms  total_bedrooms  \\\n",
       "20046    -119.01     36.06                25.0       1505.0             NaN   \n",
       "3024     -119.46     35.14                30.0       2943.0             NaN   \n",
       "15663    -122.44     37.80                52.0       3830.0             NaN   \n",
       "20484    -118.72     34.28                17.0       3051.0             NaN   \n",
       "9814     -121.93     36.62                34.0       2351.0             NaN   \n",
       "...          ...       ...                 ...          ...             ...   \n",
       "10292    -117.81     33.88                19.0       2265.0           283.0   \n",
       "16722    -120.68     35.48                15.0       2608.0           525.0   \n",
       "11730    -120.91     38.98                13.0       7689.0          1415.0   \n",
       "5993     -117.72     34.09                36.0       1473.0           328.0   \n",
       "15993    -122.47     37.76                34.0       2807.0           487.0   \n",
       "\n",
       "       population  households  median_income  median_house_value  \n",
       "20046      1392.0       359.0         1.6812             47700.0  \n",
       "3024       1565.0       584.0         2.5313             45800.0  \n",
       "15663      1310.0       963.0         3.4801            500001.0  \n",
       "20484      1705.0       495.0         5.7376            218600.0  \n",
       "9814       1063.0       428.0         3.7250            278000.0  \n",
       "...           ...         ...            ...                 ...  \n",
       "10292       904.0       279.0         9.2327            461300.0  \n",
       "16722      1351.0       502.0         2.7798            205800.0  \n",
       "11730      3264.0      1198.0         3.6530            146800.0  \n",
       "5993        785.0       299.0         3.2566            151800.0  \n",
       "15993      1152.0       445.0         5.1893            420300.0  \n",
       "\n",
       "[12384 rows x 9 columns]"
      ]
     },
     "execution_count": 13,
     "metadata": {},
     "output_type": "execute_result"
    }
   ],
   "source": [
    "dh_train = housing_data.iloc[idx[:n_train]]\n",
    "dh_val = housing_data.iloc[idx[n_train: n_train+ n_val]]\n",
    "dh_test = housing_data.iloc[idx[n_train + n_val:]]\n",
    "dh_train\n"
   ]
  },
  {
   "cell_type": "markdown",
   "id": "7d468420",
   "metadata": {},
   "source": [
    "### Separate target value 'median_house_value' and remove it"
   ]
  },
  {
   "cell_type": "code",
   "execution_count": 14,
   "id": "ab3d237b",
   "metadata": {},
   "outputs": [],
   "source": [
    "y_train =  dh_train['median_house_value']\n",
    "y_val =  dh_val['median_house_value']\n",
    "y_test = dh_test['median_house_value']"
   ]
  },
  {
   "cell_type": "code",
   "execution_count": 15,
   "id": "60a0f626",
   "metadata": {},
   "outputs": [],
   "source": [
    "del  dh_train['median_house_value']\n",
    "del  dh_val['median_house_value']\n",
    "del  dh_test['median_house_value']"
   ]
  },
  {
   "cell_type": "markdown",
   "id": "504a87e9",
   "metadata": {},
   "source": [
    "### Apply the log transformation to the median_house_value variable using the np.log1p() function"
   ]
  },
  {
   "cell_type": "code",
   "execution_count": 16,
   "id": "b065e1dd",
   "metadata": {},
   "outputs": [],
   "source": [
    "y_train =  np.log1p(y_train.values)\n",
    "y_val =  np.log1p(y_val.values)\n",
    "y_test =  np.log1p(y_test.values)"
   ]
  },
  {
   "cell_type": "markdown",
   "id": "fdb5b0fd",
   "metadata": {},
   "source": [
    "### Question 3\n",
    "We need to deal with missing values for the column from Q1.\n",
    "\n",
    "We have two options: fill it with 0 or with the mean of this variable.\n",
    "\n",
    "Try both options. For each, train a linear regression model without regularization using the code from the lessons.\n",
    "\n",
    "For computing the mean, use the training only!\n",
    "\n",
    "Use the validation dataset to evaluate the models and compare the RMSE of each option.\n",
    "\n",
    "Round the RMSE scores to 2 decimal digits using round(score, 2)\n",
    "\n",
    "Which option gives better RMSE?"
   ]
  },
  {
   "cell_type": "code",
   "execution_count": 17,
   "id": "cf572de1",
   "metadata": {},
   "outputs": [],
   "source": [
    "def train_linear_regression(X, y):\n",
    "    ones = np.ones(X.shape[0])\n",
    "    X = np.column_stack([ones, X])\n",
    "\n",
    "    XTX = X.T.dot(X)\n",
    "    XTX_inv = np.linalg.inv(XTX)\n",
    "    w = XTX_inv.dot(X.T).dot(y)\n",
    "    \n",
    "    return w[0], w[1:]"
   ]
  },
  {
   "cell_type": "markdown",
   "id": "e3761e76",
   "metadata": {},
   "source": [
    "#### Linear regression (Filling missing data with 0)"
   ]
  },
  {
   "cell_type": "code",
   "execution_count": 18,
   "id": "d935cfef",
   "metadata": {},
   "outputs": [],
   "source": [
    "def prepare_X(housing_data):\n",
    "    X= housing_data.copy()\n",
    "    X = X.fillna(0).values\n",
    "    return X\n",
    "\n",
    "X_train = prepare_X(dh_train)\n",
    "w_0, w = train_linear_regression(X_train , y_train)"
   ]
  },
  {
   "cell_type": "code",
   "execution_count": 19,
   "id": "aa3ee349",
   "metadata": {},
   "outputs": [],
   "source": [
    "y_pred = w_0 + X_train.dot(w)"
   ]
  },
  {
   "cell_type": "code",
   "execution_count": 20,
   "id": "cd450d35",
   "metadata": {},
   "outputs": [],
   "source": [
    "# Root Mean Squared Error \n",
    "def rmse(y, y_pred):\n",
    "    error = y_pred - y\n",
    "    mse = (error ** 2).mean()\n",
    "    return np.sqrt(mse)"
   ]
  },
  {
   "cell_type": "code",
   "execution_count": 21,
   "id": "e2a9ee61",
   "metadata": {},
   "outputs": [
    {
     "data": {
      "text/plain": [
       "0.33"
      ]
     },
     "execution_count": 21,
     "metadata": {},
     "output_type": "execute_result"
    }
   ],
   "source": [
    "X_val = prepare_X(dh_val) #  Use the validation dataset to evaluate the model\n",
    "y_pred = w_0 + X_val@w\n",
    "\n",
    "score =rmse(y_val, y_pred)\n",
    "round(score,2)"
   ]
  },
  {
   "cell_type": "markdown",
   "id": "a87d0740",
   "metadata": {},
   "source": [
    "#### Linear regression (Filling missing data with mean )"
   ]
  },
  {
   "cell_type": "code",
   "execution_count": 22,
   "id": "fe0c3e88",
   "metadata": {},
   "outputs": [],
   "source": [
    "def prepare_X(housing_data,mean):\n",
    "    X = housing_data.copy()\n",
    "    X = X.fillna(mean).values\n",
    "    return X\n",
    "\n",
    "total_bedrooms_mean = dh_train['total_bedrooms'].mean()\n",
    "X_train = prepare_X(dh_train,total_bedrooms_mean)\n",
    "w_0, w = train_linear_regression(X_train , y_train)"
   ]
  },
  {
   "cell_type": "code",
   "execution_count": 23,
   "id": "5d6221e2",
   "metadata": {},
   "outputs": [
    {
     "data": {
      "text/plain": [
       "0.33"
      ]
     },
     "execution_count": 23,
     "metadata": {},
     "output_type": "execute_result"
    }
   ],
   "source": [
    "X_val = prepare_X(dh_val,total_bedrooms_mean)\n",
    "y_pred = w_0 + X_val@w\n",
    "\n",
    "score =rmse(y_val, y_pred)\n",
    "round(score,2)\n",
    "\n",
    "# : The rmse score is equally good at filling in the missing values with 0 and with the mean."
   ]
  },
  {
   "cell_type": "markdown",
   "id": "bf407866",
   "metadata": {},
   "source": [
    "### Question 4\n",
    "\n",
    "Now let's train a regularized linear regression.\n",
    "\n",
    "For this question, fill the NAs with 0.\n",
    "\n",
    "Try different values of r from this list: [0, 0.000001, 0.0001, 0.001, 0.01, 0.1, 1, 5, 10].\n",
    "\n",
    "Use RMSE to evaluate the model on the validation dataset.\n",
    "\n",
    "Round the RMSE scores to 2 decimal digits.\n",
    "\n",
    "Which r gives the best RMSE?"
   ]
  },
  {
   "cell_type": "code",
   "execution_count": 24,
   "id": "4e4ed9bb",
   "metadata": {},
   "outputs": [],
   "source": [
    "def train_linear_regression_reg (X, y,r):\n",
    "    ones = np.ones(X.shape[0])\n",
    "    X = np.column_stack([ones, X])\n",
    "\n",
    "    XTX = X.T.dot(X)\n",
    "    reg = r * np.eye(XTX.shape[0])\n",
    "    XTX = XTX + reg\n",
    "\n",
    "    XTX_inv = np.linalg.inv(XTX)\n",
    "    w = XTX_inv.dot(X.T).dot(y)\n",
    "    \n",
    "    return w[0], w[1:]"
   ]
  },
  {
   "cell_type": "code",
   "execution_count": 25,
   "id": "ba3af394",
   "metadata": {},
   "outputs": [
    {
     "name": "stdout",
     "output_type": "stream",
     "text": [
      "the rmse score with r:0 is 0.33\n",
      "the rmse score with r:1e-06 is 0.33\n",
      "the rmse score with r:0.0001 is 0.33\n",
      "the rmse score with r:0.001 is 0.33\n",
      "the rmse score with r:0.01 is 0.33\n",
      "the rmse score with r:0.1 is 0.33\n",
      "the rmse score with r:1 is 0.33\n",
      "the rmse score with r:5 is 0.34\n",
      "the rmse score with r:10 is 0.34\n",
      "the rmse score with r:100 is 0.34\n"
     ]
    }
   ],
   "source": [
    "def prepare_X(housing_data):\n",
    "    X =housing_data.copy()\n",
    "    X = X.fillna(0).values\n",
    "    return X\n",
    "\n",
    "r= [0, 0.000001, 0.0001, 0.001, 0.01, 0.1, 1, 5, 10,100]\n",
    "\n",
    "#prepare DF\n",
    "X_train = prepare_X(dh_train)\n",
    "X_val = prepare_X(dh_val)\n",
    "for r in r:\n",
    "    #Train model    \n",
    "    w_0, w = train_linear_regression_reg(X_train , y_train,r)\n",
    "    #Prediction    \n",
    "    y_pred = w_0 + X_val@w\n",
    "\n",
    "    score =rmse(y_val, y_pred)\n",
    "    print(f'the rmse score with r:{r} is',round(score,2))"
   ]
  },
  {
   "cell_type": "markdown",
   "id": "3acbf024",
   "metadata": {},
   "source": [
    "### Question 5\n",
    "We used seed 42 for splitting the data. Let's find out how selecting the seed influences our score.\n",
    "\n",
    "Try different seed values: [0, 1, 2, 3, 4, 5, 6, 7, 8, 9].\n",
    "\n",
    "For each seed, do the train/validation/test split with 60%/20%/20% distribution.\n",
    "\n",
    "Fill the missing values with 0 and train a model without regularization.\n",
    "\n",
    "For each seed, evaluate the model on the validation dataset and collect the RMSE scores.\n",
    "\n",
    "What's the standard deviation of all the scores? To compute the standard deviation, use np.std.\n",
    "\n",
    "Round the result to 3 decimal digits (round(std, 3))"
   ]
  },
  {
   "cell_type": "code",
   "execution_count": 26,
   "id": "f9c0f1c7",
   "metadata": {},
   "outputs": [],
   "source": [
    "def train_val_test(seed):\n",
    "    \n",
    "    np.random.seed(seed)\n",
    "\n",
    "    n = len(housing_data)\n",
    "    n_val = int(n* 0.2)\n",
    "    n_test =  int(n * 0.2 )\n",
    "    n_train = n-( n_val+ n_test)\n",
    "\n",
    "    idx = np.arange(n)\n",
    "    np.random.shuffle(idx)\n",
    "\n",
    "    dh_train = housing_data.iloc[idx[:n_train]]\n",
    "    dh_val = housing_data.iloc[idx[n_train: n_train+ n_val]]\n",
    "    dh_test = housing_data.iloc[idx[n_train + n_val:]]\n",
    "    \n",
    "    y_train =  dh_train['median_house_value']\n",
    "    y_val =  dh_val['median_house_value']\n",
    "    y_test = dh_test['median_house_value']\n",
    "    \n",
    "    del  dh_train['median_house_value']\n",
    "    del  dh_val['median_house_value']\n",
    "    del  dh_test['median_house_value']\n",
    "    \n",
    "    y_train = np.log1p(y_train.values)\n",
    "    y_val = np.log1p(y_val.values)\n",
    "    y_test = np.log1p(y_test.values)\n",
    "    \n",
    "    \n",
    "    return dh_train, dh_val, dh_test, y_train, y_val, y_test\n",
    "\n",
    "seeds = [0, 1, 2, 3, 4, 5, 6, 7, 8, 9]\n",
    "\n",
    "scores =[]\n",
    "\n",
    "for seed in seeds:\n",
    "    dh_train, dh_val, dh_test, y_train, y_val, y_test = train_val_test(seed)\n",
    "    X_train = prepare_X(dh_train)\n",
    "    #Train model\n",
    "    w_0, w = train_linear_regression(X_train , y_train)\n",
    "    X_val = prepare_X(dh_val)\n",
    "    \n",
    "    #Prediction\n",
    "    y_pred = w_0 + X_val@w\n",
    "\n",
    "    score =rmse(y_val, y_pred)\n",
    "    score = round(score,2)\n",
    "    scores.append(score)\n"
   ]
  },
  {
   "cell_type": "code",
   "execution_count": 27,
   "id": "bdf61769",
   "metadata": {},
   "outputs": [
    {
     "data": {
      "text/plain": [
       "0.005385164807134491"
      ]
     },
     "execution_count": 27,
     "metadata": {},
     "output_type": "execute_result"
    }
   ],
   "source": [
    "np.array(scores).std()"
   ]
  },
  {
   "cell_type": "markdown",
   "id": "290bed03",
   "metadata": {},
   "source": [
    "### Question 6\n",
    "Split the dataset like previously, use seed 9.\n",
    "\n",
    "Combine train and validation datasets.\n",
    "\n",
    "Fill the missing values with 0 and train a model with r=0.001.\n",
    "\n",
    "What's the RMSE on the test dataset?"
   ]
  },
  {
   "cell_type": "code",
   "execution_count": 28,
   "id": "cddd230f",
   "metadata": {},
   "outputs": [
    {
     "data": {
      "text/plain": [
       "0.35"
      ]
     },
     "execution_count": 28,
     "metadata": {},
     "output_type": "execute_result"
    }
   ],
   "source": [
    "dh_train, dh_val, dh_test, y_train, y_val, y_test = train_val_test(9)\n",
    "\n",
    "dh_train = pd.concat([dh_train,dh_val])\n",
    "y_train = np.concatenate((y_train, y_val), axis=0)\n",
    "\n",
    "X_train = prepare_X(dh_train)\n",
    "#Train model\n",
    "w_0, w = train_linear_regression_reg(X_train , y_train,0.001)\n",
    "X_test = prepare_X(dh_test)\n",
    "\n",
    "#Prediction\n",
    "y_pred = w_0 + X_test@w\n",
    "\n",
    "score =rmse(y_test, y_pred)\n",
    "round(score,2)"
   ]
  }
 ],
 "metadata": {
  "kernelspec": {
   "display_name": "Python 3 (ipykernel)",
   "language": "python",
   "name": "python3"
  },
  "language_info": {
   "codemirror_mode": {
    "name": "ipython",
    "version": 3
   },
   "file_extension": ".py",
   "mimetype": "text/x-python",
   "name": "python",
   "nbconvert_exporter": "python",
   "pygments_lexer": "ipython3",
   "version": "3.9.13"
  }
 },
 "nbformat": 4,
 "nbformat_minor": 5
}
